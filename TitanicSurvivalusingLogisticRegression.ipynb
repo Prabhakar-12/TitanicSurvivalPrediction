{
 "cells": [
  {
   "cell_type": "code",
   "execution_count": null,
   "id": "0e3a0d73",
   "metadata": {},
   "outputs": [],
   "source": [
    " \n",
    "import numpy as np\n",
    "import pandas as pd\n",
    "import seaborn as sns\n",
    "import matplotlib.pyplot as plt\n",
    "%matplotlib inline\n",
    "import math\n",
    "Titanic_data=pd.read_excel(\"titanic3.xls\")\n",
    "Titanic_data\n"
   ]
  },
  {
   "cell_type": "code",
   "execution_count": null,
   "id": "7d108e6b",
   "metadata": {},
   "outputs": [],
   "source": [
    "print(\"# number of passenger in original Data: \"+str(len(Titanic_data.index)))"
   ]
  },
  {
   "cell_type": "markdown",
   "id": "8fd8b178",
   "metadata": {},
   "source": [
    "Analyzing Data"
   ]
  },
  {
   "cell_type": "code",
   "execution_count": null,
   "id": "d318d24e",
   "metadata": {},
   "outputs": [],
   "source": [
    "sns.countplot(x=\"survived\",data=Titanic_data) \n",
    " \n",
    " "
   ]
  },
  {
   "cell_type": "code",
   "execution_count": null,
   "id": "bbbec660",
   "metadata": {},
   "outputs": [],
   "source": [
    "sns.countplot(x=\"survived\",hue=\"sex\",data=Titanic_data) \n",
    " "
   ]
  },
  {
   "cell_type": "code",
   "execution_count": null,
   "id": "9cf03df6",
   "metadata": {},
   "outputs": [],
   "source": [
    "sns.countplot(x=\"survived\",hue=\"parch\",data=Titanic_data)"
   ]
  },
  {
   "cell_type": "code",
   "execution_count": null,
   "id": "37be3d9d",
   "metadata": {},
   "outputs": [],
   "source": [
    "Titanic_data[\"age\"].plot.hist() "
   ]
  },
  {
   "cell_type": "code",
   "execution_count": null,
   "id": "2df58b36",
   "metadata": {},
   "outputs": [],
   "source": [
    "Titanic_data.columns"
   ]
  },
  {
   "cell_type": "code",
   "execution_count": null,
   "id": "09cbea1c",
   "metadata": {},
   "outputs": [],
   "source": [
    "Titanic_data.info() "
   ]
  },
  {
   "cell_type": "code",
   "execution_count": null,
   "id": "307d8fae",
   "metadata": {},
   "outputs": [],
   "source": [
    "sns.countplot(x=\"sibsp\",data=Titanic_data)"
   ]
  },
  {
   "cell_type": "code",
   "execution_count": null,
   "id": "668121e4",
   "metadata": {},
   "outputs": [],
   "source": [
    "sns.countplot(x=\"parch\",data=Titanic_data)"
   ]
  },
  {
   "cell_type": "markdown",
   "id": "dec895eb",
   "metadata": {},
   "source": [
    "Data Wrangling"
   ]
  },
  {
   "cell_type": "code",
   "execution_count": null,
   "id": "49afbd37",
   "metadata": {},
   "outputs": [],
   "source": [
    "Titanic_data.isnull()"
   ]
  },
  {
   "cell_type": "code",
   "execution_count": null,
   "id": "e5a238ec",
   "metadata": {},
   "outputs": [],
   "source": [
    "Titanic_data.isnull().sum()"
   ]
  },
  {
   "cell_type": "code",
   "execution_count": null,
   "id": "716c0cf3",
   "metadata": {},
   "outputs": [],
   "source": [
    "sns.heatmap(Titanic_data.isnull(),xticklabels=True,cmap=\"viridis\")\n",
    " "
   ]
  },
  {
   "cell_type": "code",
   "execution_count": null,
   "id": "b2ba6d5e",
   "metadata": {},
   "outputs": [],
   "source": [
    "sns.boxplot(x=\"parch\",y=\"age\",data=Titanic_data)"
   ]
  },
  {
   "cell_type": "code",
   "execution_count": null,
   "id": "1116ba21",
   "metadata": {},
   "outputs": [],
   "source": [
    " \n",
    "Titanic_data.drop(\"cabin\",axis=1,inplace=True)"
   ]
  },
  {
   "cell_type": "code",
   "execution_count": null,
   "id": "4584d924",
   "metadata": {},
   "outputs": [],
   "source": [
    " \n",
    "# Fill missing values\n",
    "Titanic_data['age'].fillna(Titanic_data['age'].median(), inplace=True)\n",
    "Titanic_data['fare'].fillna(Titanic_data['fare'].median(), inplace=True)\n",
    "Titanic_data['embarked'].fillna(Titanic_data['embarked'].mode()[0], inplace=True)\n",
    "\n",
    "# Drop high-missing or irrelevant columns\n",
    "Titanic_data.drop([ 'boat', 'body', 'home.dest', 'name', 'ticket'], axis=1, inplace=True)\n",
    "\n",
    "# Convert categorical columns into dummy/indicator variables\n",
    "Titanic_data = pd.get_dummies(Titanic_data, columns=['sex', 'embarked'], drop_first=True)\n",
    "\n",
    "# Final check \n",
    "print(Titanic_data.dtypes)\n",
    "print(Titanic_data.isnull().sum())\n",
    "print(Titanic_data)\n",
    " "
   ]
  },
  {
   "cell_type": "code",
   "execution_count": null,
   "id": "f75ffa50",
   "metadata": {},
   "outputs": [],
   "source": [
    " \n",
    "from sklearn.model_selection import train_test_split\n",
    "X=Titanic_data.drop(\"survived\",axis=1)\n",
    "y=Titanic_data[\"survived\"]\n",
    " "
   ]
  },
  {
   "cell_type": "code",
   "execution_count": null,
   "id": "ca0f728d",
   "metadata": {},
   "outputs": [],
   "source": [
    " \n",
    "X_train,X_test,y_train,y_test=train_test_split(X,y,test_size=0.25,random_state=1)"
   ]
  },
  {
   "cell_type": "code",
   "execution_count": null,
   "id": "dd60e33a",
   "metadata": {},
   "outputs": [],
   "source": [
    "from sklearn.linear_model import LogisticRegression\n",
    "log_model=LogisticRegression()\n",
    "log_model.fit(X_train,y_train)"
   ]
  },
  {
   "cell_type": "code",
   "execution_count": null,
   "id": "3f3298eb",
   "metadata": {},
   "outputs": [],
   "source": [
    "prediction=log_model.predict(X_test)\n",
    "from sklearn.metrics import classification_report\n",
    "classification_report(y_test,prediction)"
   ]
  },
  {
   "cell_type": "code",
   "execution_count": null,
   "id": "52510068",
   "metadata": {},
   "outputs": [],
   "source": [
    "from sklearn.metrics import confusion_matrix\n",
    "confusion_matrix(y_test,prediction)"
   ]
  },
  {
   "cell_type": "code",
   "execution_count": null,
   "id": "b6932eb4",
   "metadata": {},
   "outputs": [],
   "source": [
    "from sklearn.metrics import accuracy_score\n",
    "#Accuracy = (Sum of Correct Predictions) / (Sum of Total Predictions)\n",
    "a=accuracy_score(y_test,prediction)\n",
    "plt.bar([\"ACCuracy\"],[a],color=\"skyblue\")\n",
    "plt.ylim(0,1)\n",
    "plt.title(\"Model Accuarcy\")\n",
    "plt.xlabel(\"Model Labels\")\n",
    "plt.show()"
   ]
  }
 ],
 "metadata": {
  "kernelspec": {
   "display_name": "Python 3",
   "language": "python",
   "name": "python3"
  },
  "language_info": {
   "codemirror_mode": {
    "name": "ipython",
    "version": 3
   },
   "file_extension": ".py",
   "mimetype": "text/x-python",
   "name": "python",
   "nbconvert_exporter": "python",
   "pygments_lexer": "ipython3",
   "version": "3.13.2"
  }
 },
 "nbformat": 4,
 "nbformat_minor": 5
}
