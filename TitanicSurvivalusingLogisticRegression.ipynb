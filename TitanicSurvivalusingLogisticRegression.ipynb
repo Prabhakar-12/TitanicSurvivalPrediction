{
 "cells": [
  {
   "cell_type": "code",
   "execution_count": null,
   "id": "0e3a0d73",
   "metadata": {},
   "outputs": [],
   "source": [
    " \n",
    "import numpy as np\n",
    "import pandas as pd\n",
    "import seaborn as sns\n",
    "import matplotlib.pyplot as plt\n",
    "%matplotlib inline\n",
    "import math\n",
    "Titanic_data=pd.read_excel(\"titanic3.xls\")\n",
    "Titanic_data\n"
   ]
  },
  {
   "cell_type": "code",
   "execution_count": null,
   "id": "7d108e6b",
   "metadata": {},
   "outputs": [],
   "source": [
    "print(\"# number of passenger in original Data: \"+str(len(Titanic_data.index)))"
   ]
  },
  {
   "cell_type": "markdown",
   "id": "8fd8b178",
   "metadata": {},
   "source": [
    "Analyzing Data"
   ]
  },
  {
   "cell_type": "code",
   "execution_count": null,
   "id": "d318d24e",
   "metadata": {},
   "outputs": [],
   "source": [
    "sns.countplot(x=\"survived\",data=Titanic_data) \n",
    " \n",
    " "
   ]
  },
  {
   "cell_type": "code",
   "execution_count": null,
   "id": "bbbec660",
   "metadata": {},
   "outputs": [],
   "source": [
    "sns.countplot(x=\"survived\",hue=\"sex\",data=Titanic_data) \n",
    " "
   ]
  },
  {
   "cell_type": "code",
   "execution_count": null,
   "id": "9cf03df6",
   "metadata": {},
   "outputs": [],
   "source": [
    "sns.countplot(x=\"survived\",hue=\"parch\",data=Titanic_data)"
   ]
  },
  {
   "cell_type": "code",
   "execution_count": null,
   "id": "37be3d9d",
   "metadata": {},
   "outputs": [],
   "source": [
    "Titanic_data[\"age\"].plot.hist() "
   ]
  },
  {
   "cell_type": "code",
   "execution_count": null,
   "id": "2df58b36",
   "metadata": {},
   "outputs": [],
   "source": [
    "Titanic_data.columns"
   ]
  },
  {
   "cell_type": "code",
   "execution_count": null,
   "id": "09cbea1c",
   "metadata": {},
   "outputs": [],
   "source": [
    "Titanic_data.info() "
   ]
  },
  {
   "cell_type": "code",
   "execution_count": null,
   "id": "307d8fae",
   "metadata": {},
   "outputs": [],
   "source": [
    "sns.countplot(x=\"sibsp\",data=Titanic_data)"
   ]
  },
  {
   "cell_type": "code",
   "execution_count": null,
   "id": "668121e4",
   "metadata": {},
   "outputs": [],
   "source": [
    "sns.countplot(x=\"parch\",data=Titanic_data)"
   ]
  },
  {
   "cell_type": "markdown",
   "id": "dec895eb",
   "metadata": {},
   "source": [
    "Data Wrangling"
   ]
  },
  {
   "cell_type": "code",
   "execution_count": null,
   "id": "49afbd37",
   "metadata": {},
   "outputs": [],
   "source": [
    "Titanic_data.isnull()"
   ]
  },
  {
   "cell_type": "code",
   "execution_count": null,
   "id": "e5a238ec",
   "metadata": {},
   "outputs": [],
   "source": [
    "Titanic_data.isnull().sum()"
   ]
  },
  {
   "cell_type": "code",
   "execution_count": null,
   "id": "716c0cf3",
   "metadata": {},
   "outputs": [],
   "source": [
    "sns.heatmap(Titanic_data.isnull(),xticklabels=True,cmap=\"viridis\")\n",
    " "
   ]
  },
  {
   "cell_type": "code",
   "execution_count": null,
   "id": "b2ba6d5e",
   "metadata": {},
   "outputs": [],
   "source": [
    "sns.boxplot(x=\"parch\",y=\"age\",data=Titanic_data)"
   ]
  },
  {
   "cell_type": "code",
   "execution_count": null,
   "id": "1116ba21",
   "metadata": {},
   "outputs": [],
   "source": [
    " \n",
    "Titanic_data.drop(\"cabin\",axis=1,inplace=True)"
   ]
  },
  {
   "cell_type": "code",
   "execution_count": null,
   "id": "4584d924",
   "metadata": {},
<<<<<<< HEAD
   "outputs": [],
=======
   "outputs": [
    {
     "name": "stdout",
     "output_type": "stream",
     "text": [
      "pclass          int64\n",
      "survived        int64\n",
      "age           float64\n",
      "sibsp           int64\n",
      "parch           int64\n",
      "fare          float64\n",
      "sex_male         bool\n",
      "embarked_Q       bool\n",
      "embarked_S       bool\n",
      "dtype: object\n",
      "pclass        0\n",
      "survived      0\n",
      "age           0\n",
      "sibsp         0\n",
      "parch         0\n",
      "fare          0\n",
      "sex_male      0\n",
      "embarked_Q    0\n",
      "embarked_S    0\n",
      "dtype: int64\n",
      "      pclass  survived      age  sibsp  parch      fare  sex_male  embarked_Q  \\\n",
      "0          1         1  29.0000      0      0  211.3375     False       False   \n",
      "1          1         1   0.9167      1      2  151.5500      True       False   \n",
      "2          1         0   2.0000      1      2  151.5500     False       False   \n",
      "3          1         0  30.0000      1      2  151.5500      True       False   \n",
      "4          1         0  25.0000      1      2  151.5500     False       False   \n",
      "...      ...       ...      ...    ...    ...       ...       ...         ...   \n",
      "1304       3         0  14.5000      1      0   14.4542     False       False   \n",
      "1305       3         0  28.0000      1      0   14.4542     False       False   \n",
      "1306       3         0  26.5000      0      0    7.2250      True       False   \n",
      "1307       3         0  27.0000      0      0    7.2250      True       False   \n",
      "1308       3         0  29.0000      0      0    7.8750      True       False   \n",
      "\n",
      "      embarked_S  \n",
      "0           True  \n",
      "1           True  \n",
      "2           True  \n",
      "3           True  \n",
      "4           True  \n",
      "...          ...  \n",
      "1304       False  \n",
      "1305       False  \n",
      "1306       False  \n",
      "1307       False  \n",
      "1308        True  \n",
      "\n",
      "[1309 rows x 9 columns]\n"
     ]
    },
    {
     "name": "stderr",
     "output_type": "stream",
     "text": [
      "C:\\Users\\user\\AppData\\Local\\Temp\\ipykernel_4992\\496236989.py:2: FutureWarning: A value is trying to be set on a copy of a DataFrame or Series through chained assignment using an inplace method.\n",
      "The behavior will change in pandas 3.0. This inplace method will never work because the intermediate object on which we are setting values always behaves as a copy.\n",
      "\n",
      "For example, when doing 'df[col].method(value, inplace=True)', try using 'df.method({col: value}, inplace=True)' or df[col] = df[col].method(value) instead, to perform the operation inplace on the original object.\n",
      "\n",
      "\n",
      "  Titanic_data['age'].fillna(Titanic_data['age'].median(), inplace=True)\n",
      "C:\\Users\\user\\AppData\\Local\\Temp\\ipykernel_4992\\496236989.py:3: FutureWarning: A value is trying to be set on a copy of a DataFrame or Series through chained assignment using an inplace method.\n",
      "The behavior will change in pandas 3.0. This inplace method will never work because the intermediate object on which we are setting values always behaves as a copy.\n",
      "\n",
      "For example, when doing 'df[col].method(value, inplace=True)', try using 'df.method({col: value}, inplace=True)' or df[col] = df[col].method(value) instead, to perform the operation inplace on the original object.\n",
      "\n",
      "\n",
      "  Titanic_data['fare'].fillna(Titanic_data['fare'].median(), inplace=True)\n",
      "C:\\Users\\user\\AppData\\Local\\Temp\\ipykernel_4992\\496236989.py:4: FutureWarning: A value is trying to be set on a copy of a DataFrame or Series through chained assignment using an inplace method.\n",
      "The behavior will change in pandas 3.0. This inplace method will never work because the intermediate object on which we are setting values always behaves as a copy.\n",
      "\n",
      "For example, when doing 'df[col].method(value, inplace=True)', try using 'df.method({col: value}, inplace=True)' or df[col] = df[col].method(value) instead, to perform the operation inplace on the original object.\n",
      "\n",
      "\n",
      "  Titanic_data['embarked'].fillna(Titanic_data['embarked'].mode()[0], inplace=True)\n"
     ]
    }
   ],
>>>>>>> 6c2198b124171dc98b87ee34b610938c3eb5ce30
   "source": [
    " \n",
    "# Fill missing values\n",
    "Titanic_data['age'].fillna(Titanic_data['age'].median(), inplace=True)\n",
    "Titanic_data['fare'].fillna(Titanic_data['fare'].median(), inplace=True)\n",
    "Titanic_data['embarked'].fillna(Titanic_data['embarked'].mode()[0], inplace=True)\n",
    "\n",
    "# Drop high-missing or irrelevant columns\n",
    "Titanic_data.drop([ 'boat', 'body', 'home.dest', 'name', 'ticket'], axis=1, inplace=True)\n",
    "\n",
    "# Convert categorical columns into dummy/indicator variables\n",
    "Titanic_data = pd.get_dummies(Titanic_data, columns=['sex', 'embarked'], drop_first=True)\n",
    "\n",
    "# Final check \n",
    "print(Titanic_data.dtypes)\n",
    "print(Titanic_data.isnull().sum())\n",
    "print(Titanic_data)\n",
    " "
   ]
  },
  {
   "cell_type": "code",
   "execution_count": null,
   "id": "f75ffa50",
   "metadata": {},
   "outputs": [],
   "source": [
    " \n",
    "from sklearn.model_selection import train_test_split\n",
    "X=Titanic_data.drop(\"survived\",axis=1)\n",
    "y=Titanic_data[\"survived\"]\n",
    " "
   ]
  },
  {
   "cell_type": "code",
   "execution_count": null,
   "id": "ca0f728d",
   "metadata": {},
   "outputs": [],
   "source": [
    " \n",
    "X_train,X_test,y_train,y_test=train_test_split(X,y,test_size=0.25,random_state=1)"
   ]
  },
  {
   "cell_type": "code",
   "execution_count": null,
   "id": "dd60e33a",
   "metadata": {},
   "outputs": [],
   "source": [
    "from sklearn.linear_model import LogisticRegression\n",
    "log_model=LogisticRegression()\n",
    "log_model.fit(X_train,y_train)"
   ]
  },
  {
   "cell_type": "code",
   "execution_count": null,
   "id": "3f3298eb",
   "metadata": {},
   "outputs": [],
   "source": [
    "prediction=log_model.predict(X_test)\n",
    "from sklearn.metrics import classification_report\n",
    "classification_report(y_test,prediction)"
   ]
  },
  {
   "cell_type": "code",
   "execution_count": null,
   "id": "52510068",
   "metadata": {},
   "outputs": [],
   "source": [
    "from sklearn.metrics import confusion_matrix\n",
    "confusion_matrix(y_test,prediction)"
   ]
  },
  {
   "cell_type": "code",
   "execution_count": null,
   "id": "b6932eb4",
   "metadata": {},
   "outputs": [],
   "source": [
    "from sklearn.metrics import accuracy_score\n",
    "#Accuracy = (Sum of Correct Predictions) / (Sum of Total Predictions)\n",
    "a=accuracy_score(y_test,prediction)\n",
    "plt.bar([\"ACCuracy\"],[a],color=\"skyblue\")\n",
    "plt.ylim(0,1)\n",
    "plt.title(\"Model Accuarcy\")\n",
    "plt.xlabel(\"Model Labels\")\n",
    "plt.show()"
   ]
  },
  {
   "cell_type": "code",
   "execution_count": 25,
   "id": "1fb9e81d",
   "metadata": {},
   "outputs": [
    {
     "data": {
      "image/png": "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",
      "text/plain": [
       "<Figure size 640x480 with 1 Axes>"
      ]
     },
     "metadata": {},
     "output_type": "display_data"
    }
   ],
   "source": [
    "from sklearn.metrics import accuracy_score\n",
    "b=accuracy_score(y_test,prediction)\n",
    "plt.bar([\"accuracy\"],[a],color=\"skyblue\")\n",
    "plt.ylim(0,1)\n",
    "plt.ylabel(\"Model Accuracy\")\n",
    "plt.xlabel(\"Model Label\")\n",
    "plt.show()\n",
    "\n"
   ]
  }
 ],
 "metadata": {
  "kernelspec": {
   "display_name": "Python 3",
   "language": "python",
   "name": "python3"
  },
  "language_info": {
   "codemirror_mode": {
    "name": "ipython",
    "version": 3
   },
   "file_extension": ".py",
   "mimetype": "text/x-python",
   "name": "python",
   "nbconvert_exporter": "python",
   "pygments_lexer": "ipython3",
   "version": "3.13.2"
  }
 },
 "nbformat": 4,
 "nbformat_minor": 5
}
